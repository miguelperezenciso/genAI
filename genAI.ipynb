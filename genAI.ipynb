{
 "cells": [
  {
   "cell_type": "markdown",
   "id": "6563b9ef-4fce-4c46-8057-b8e81a559110",
   "metadata": {},
   "source": [
    "## Generative AI for predictive breeding\n",
    "### Code initially generated with ChatGPT, manually tested and polished\n",
    "#### Simulate microbiome data using a log - normal distribution and generates synthetic data using VAE, GAN, ARR, diffusion and flow methods.\n"
   ]
  },
  {
   "cell_type": "code",
   "execution_count": 3,
   "id": "68c0b31a-bfd2-4d68-bfc6-fd1e0ad0f995",
   "metadata": {},
   "outputs": [],
   "source": [
    "# libraries\n",
    "import numpy as np\n",
    "import pandas as pd\n",
    "import matplotlib.pyplot as plt\n",
    "\n",
    "import torch\n",
    "import torch.nn as nn\n",
    "import torch.optim as optim\n",
    "from torch.utils.data import DataLoader, TensorDataset"
   ]
  },
  {
   "cell_type": "code",
   "execution_count": 19,
   "id": "1eed827f-f141-4e60-8e08-672c00a728be",
   "metadata": {},
   "outputs": [],
   "source": [
    "# ensures / or not reproducibility\n",
    "seed = 42\n",
    "np.random.seed(seed)"
   ]
  },
  {
   "cell_type": "markdown",
   "id": "3fe44bba-eec2-4d4d-9865-f2e819adcc4e",
   "metadata": {},
   "source": [
    "## Data simulation"
   ]
  },
  {
   "cell_type": "code",
   "execution_count": 20,
   "id": "7b72732e-5691-4fc6-8907-fd0a8d6d7184",
   "metadata": {},
   "outputs": [],
   "source": [
    "\n",
    "def simulate_microbiome_data(num_samples=10, num_species=50):\n",
    "    \"\"\"\n",
    "    Simulates microbiome abundance data using a log-normal distribution.\n",
    "    \n",
    "    Parameters:\n",
    "    - num_samples: Number of samples\n",
    "    - num_species: Number of microbial species\n",
    "    - seed: Random seed for reproducibility (cancelled)\n",
    "    \n",
    "    Returns:\n",
    "    - DataFrame with simulated microbial abundances.\n",
    "    \"\"\"\n",
    "    \n",
    "    # Generate log-normal distributed abundances for each species across samples\n",
    "    mean_abundance = np.random.uniform(-3, 3, num_species)  # Mean log-abundance per species\n",
    "    std_dev = np.random.uniform(0.5, 1.5, num_species)      # Variability per species\n",
    "    \n",
    "    abundance_matrix = np.array([\n",
    "        np.random.lognormal(mean_abundance, std_dev) for _ in range(num_samples)\n",
    "    ])\n",
    "    \n",
    "    # Normalize each sample to sum to a fixed number (e.g., 10,000 reads per sample)\n",
    "    total_reads = 20000\n",
    "    abundance_matrix = (abundance_matrix.T / abundance_matrix.sum(axis=1) * total_reads).T\n",
    "    \n",
    "    # Convert to DataFrame\n",
    "    species = [f\"Species_{i+1}\" for i in range(num_species)]\n",
    "    samples = [f\"Sample_{i+1}\" for i in range(num_samples)]\n",
    "    df = pd.DataFrame(abundance_matrix, index=samples, columns=species)\n",
    "    \n",
    "    return df\n"
   ]
  },
  {
   "cell_type": "code",
   "execution_count": 21,
   "id": "0d824487-c487-4c80-951c-96c3bb159950",
   "metadata": {},
   "outputs": [],
   "source": [
    "def plot_microbiome_data(df, main='Simulated Microbiome Data'):\n",
    "    \"\"\"\n",
    "    Plots the microbiome abundance data as histogram.\n",
    "    \n",
    "    Parameters:\n",
    "    - df: DataFrame containing microbiome abundance data.\n",
    "    \"\"\"\n",
    "    plt.hist(df.mean(axis=0), color='cyan', edgecolor='black', alpha=0.7)\n",
    "    plt.ylabel('Count of Species')\n",
    "    plt.xlabel('Species Mean Abundance')\n",
    "    plt.title(main)\n",
    "    plt.show()"
   ]
  },
  {
   "cell_type": "code",
   "execution_count": 46,
   "id": "227da083-b053-411d-9b63-c770d37253ec",
   "metadata": {},
   "outputs": [
    {
     "name": "stdout",
     "output_type": "stream",
     "text": [
      "           Species_1   Species_2   Species_3  Species_4   Species_5  \\\n",
      "Sample_1   16.511139  283.523483  585.876577   4.619761   17.996656   \n",
      "Sample_2  133.831449  783.599445   20.233493   3.350984   69.905552   \n",
      "Sample_3   24.524981  259.446200  243.678259  14.289582  116.117210   \n",
      "Sample_4    5.290558  248.826455  113.632127   1.406439   56.079910   \n",
      "Sample_5   23.369971  229.804888  399.849885   7.858757   73.019061   \n",
      "\n",
      "           Species_6  Species_7    Species_8   Species_9   Species_10  ...  \\\n",
      "Sample_1    4.344675   7.637186   162.328484  169.590807   408.067963  ...   \n",
      "Sample_2    6.560713  13.269081  9628.184291   30.438467   469.800854  ...   \n",
      "Sample_3   18.494083  87.585788  1948.473167  130.874775  1008.761061  ...   \n",
      "Sample_4    0.878146   3.522828  9065.164084  151.877352   382.118080  ...   \n",
      "Sample_5  254.810079   1.482225   137.619278   31.332092   375.386770  ...   \n",
      "\n",
      "          Species_41   Species_42  Species_43   Species_44   Species_45  \\\n",
      "Sample_1   28.048807   735.225781  137.735628   301.483224    81.405322   \n",
      "Sample_2   92.664456   479.379952   63.198681   446.831625    41.294112   \n",
      "Sample_3   19.701398  1483.450541   13.692826  1227.308519   648.041647   \n",
      "Sample_4    8.415016   158.896687   15.384046   186.892894   296.681553   \n",
      "Sample_5   12.141436   460.041151   16.217933  1408.146496  5354.928536   \n",
      "\n",
      "          Species_46  Species_47   Species_48  Species_49  Species_50  \n",
      "Sample_1   81.650738    2.743222  1294.164927   86.695681    1.450107  \n",
      "Sample_2   27.102320    1.960638   950.735751   56.475811   39.917287  \n",
      "Sample_3    9.993287   20.569717   618.336392   54.747629  655.216083  \n",
      "Sample_4    5.815432    3.390817   642.166826   18.104668    6.318355  \n",
      "Sample_5   14.247753    9.747680  1819.299634   31.373679    4.185733  \n",
      "\n",
      "[5 rows x 50 columns]\n"
     ]
    },
    {
     "data": {
      "image/png": "[encoded data removed]",
      "text/plain": [
       "<Figure size 640x480 with 1 Axes>"
      ]
     },
     "metadata": {},
     "output_type": "display_data"
    }
   ],
   "source": [
    "# Example usage\n",
    "n_samples = 1000\n",
    "n_species = 50\n",
    "df = simulate_microbiome_data(num_samples=n_samples, num_species=n_species)\n",
    "print(df.head(5))\n",
    "plot_microbiome_data(df)\n",
    "df0 = df"
   ]
  },
  {
   "cell_type": "markdown",
   "id": "d727ad55-89f0-45a2-a8bd-97bdc31f0570",
   "metadata": {},
   "source": [
    "## Variational Autoencoder"
   ]
  },
  {
   "cell_type": "code",
   "execution_count": 23,
   "id": "2924dbe4-d151-4ea6-8b65-86b7976f4c1e",
   "metadata": {},
   "outputs": [],
   "source": [
    "class VAE(nn.Module):\n",
    "    def __init__(self, input_dim, latent_dim=10):\n",
    "        super(VAE, self).__init__()\n",
    "        self.encoder = nn.Sequential(\n",
    "            nn.Linear(input_dim, 32),\n",
    "            nn.ReLU(),\n",
    "            nn.Linear(32, 16),\n",
    "            nn.ReLU()\n",
    "        )\n",
    "        self.mu = nn.Linear(16, latent_dim)\n",
    "        self.logvar = nn.Linear(16, latent_dim)\n",
    "        self.decoder = nn.Sequential(\n",
    "            nn.Linear(latent_dim, 16),\n",
    "            nn.ReLU(),\n",
    "            nn.Linear(16, 32),\n",
    "            nn.ReLU(),\n",
    "            nn.Linear(32, input_dim),\n",
    "            nn.Softmax(dim=1)\n",
    "        )\n",
    "    \n",
    "    def reparameterize(self, mu, logvar):\n",
    "        std = torch.exp(0.5 * logvar)\n",
    "        eps = torch.randn_like(std)\n",
    "        return mu + eps * std\n",
    "    \n",
    "    def forward(self, x):\n",
    "        h = self.encoder(x)\n",
    "        mu, logvar = self.mu(h), self.logvar(h)\n",
    "        z = self.reparameterize(mu, logvar)\n",
    "        return self.decoder(z), mu, logvar\n",
    "\n",
    "def train_vae(df, latent_dim=10, epochs=100, batch_size=5, lr=0.001):\n",
    "    data_tensor = torch.tensor(df.values, dtype=torch.float32)\n",
    "    dataloader = DataLoader(TensorDataset(data_tensor), batch_size=batch_size, shuffle=True)\n",
    "    \n",
    "    input_dim = df.shape[1]\n",
    "    vae = VAE(input_dim, latent_dim)\n",
    "    optimizer = optim.Adam(vae.parameters(), lr=lr)\n",
    "    loss_fn = nn.MSELoss()\n",
    "    \n",
    "    for epoch in range(epochs):\n",
    "        for batch in dataloader:\n",
    "            x = batch[0]\n",
    "            x_recon, mu, logvar = vae(x)\n",
    "            loss = loss_fn(x_recon, x)\n",
    "            optimizer.zero_grad()\n",
    "            loss.backward()\n",
    "            optimizer.step()\n",
    "        if epoch % 50 == 0:\n",
    "            print(f\"Epoch {epoch}, Loss: {loss.item()}\")\n",
    "    \n",
    "    return vae\n",
    "\n",
    "def generate_new_data(vae, num_samples=10, latent_dim=10):\n",
    "    \"\"\"\n",
    "    Generates new microbiome data using the trained VAE model.\n",
    "    \n",
    "    Parameters:\n",
    "    - vae: Trained VAE model\n",
    "    - num_samples: Number of new samples to generate\n",
    "    - latent_dim: Dimensionality of the latent space\n",
    "    \n",
    "    Returns:\n",
    "    - DataFrame containing generated microbial abundances\n",
    "    \"\"\"\n",
    "    with torch.no_grad():\n",
    "        z = torch.randn(num_samples, latent_dim)\n",
    "        generated_data = vae.decoder(z).numpy()\n",
    "    \n",
    "    species_names = [f\"Species_{i+1}\" for i in range(generated_data.shape[1])]\n",
    "    sample_names = [f\"Generated_Sample_{i+1}\" for i in range(num_samples)]\n",
    "    df_generated = pd.DataFrame(generated_data, index=sample_names, columns=species_names)\n",
    "    \n",
    "    return df_generated"
   ]
  },
  {
   "cell_type": "code",
   "execution_count": 30,
   "id": "07af52ab-f5c2-4853-9107-a33640d327cc",
   "metadata": {},
   "outputs": [
    {
     "name": "stdout",
     "output_type": "stream",
     "text": [
      "Epoch 0, Loss: 1397937.25\n",
      "Epoch 50, Loss: 1043967.625\n",
      "Epoch 100, Loss: 1335250.5\n",
      "Epoch 150, Loss: 1186216.5\n",
      "Epoch 200, Loss: 751272.3125\n",
      "Epoch 250, Loss: 1086564.875\n",
      "Epoch 300, Loss: 881508.25\n",
      "Epoch 350, Loss: 1252097.875\n",
      "Epoch 400, Loss: 865266.0\n",
      "Epoch 450, Loss: 1344867.875\n"
     ]
    }
   ],
   "source": [
    "vae_model = train_vae(df, latent_dim=2, epochs=500, batch_size=5, lr=0.001)"
   ]
  },
  {
   "cell_type": "code",
   "execution_count": 47,
   "id": "e0fd575b-901a-494b-bf81-32eb78c8d9a1",
   "metadata": {},
   "outputs": [
    {
     "name": "stdout",
     "output_type": "stream",
     "text": [
      "                    Species_1  Species_2  Species_3  Species_4  Species_5  \\\n",
      "Generated_Sample_1   0.024355   0.025935   0.017166   0.023380   0.015906   \n",
      "Generated_Sample_2   0.024914   0.019025   0.019172   0.027423   0.020777   \n",
      "Generated_Sample_3   0.025173   0.020384   0.018688   0.025896   0.019362   \n",
      "Generated_Sample_4   0.024470   0.025603   0.017287   0.023606   0.016079   \n",
      "Generated_Sample_5   0.025106   0.022981   0.017638   0.023864   0.018405   \n",
      "\n",
      "                    Species_6  Species_7  Species_8  Species_9  Species_10  \\\n",
      "Generated_Sample_1   0.023022   0.020168   0.025434   0.019040    0.019072   \n",
      "Generated_Sample_2   0.019215   0.022767   0.028101   0.020238    0.017321   \n",
      "Generated_Sample_3   0.020265   0.022682   0.028029   0.019653    0.017451   \n",
      "Generated_Sample_4   0.022950   0.020471   0.025361   0.018999    0.019064   \n",
      "Generated_Sample_5   0.020954   0.022161   0.026454   0.019900    0.018107   \n",
      "\n",
      "                    ...  Species_41  Species_42  Species_43  Species_44  \\\n",
      "Generated_Sample_1  ...    0.014799    0.018655    0.019117    0.018345   \n",
      "Generated_Sample_2  ...    0.014620    0.020481    0.015641    0.017888   \n",
      "Generated_Sample_3  ...    0.014570    0.020272    0.016020    0.018635   \n",
      "Generated_Sample_4  ...    0.014685    0.018797    0.019157    0.018208   \n",
      "Generated_Sample_5  ...    0.015029    0.020275    0.016618    0.018044   \n",
      "\n",
      "                    Species_45  Species_46  Species_47  Species_48  \\\n",
      "Generated_Sample_1    0.015228    0.022289    0.014736    0.017123   \n",
      "Generated_Sample_2    0.013626    0.021672    0.017908    0.021477   \n",
      "Generated_Sample_3    0.013789    0.022417    0.017420    0.021554   \n",
      "Generated_Sample_4    0.015146    0.022161    0.014849    0.017129   \n",
      "Generated_Sample_5    0.014489    0.022415    0.017982    0.019328   \n",
      "\n",
      "                    Species_49  Species_50  \n",
      "Generated_Sample_1    0.020125    0.022187  \n",
      "Generated_Sample_2    0.014987    0.021217  \n",
      "Generated_Sample_3    0.015500    0.021764  \n",
      "Generated_Sample_4    0.019682    0.022139  \n",
      "Generated_Sample_5    0.017077    0.022184  \n",
      "\n",
      "[5 rows x 50 columns]\n"
     ]
    },
    {
     "data": {
      "image/png": "[encoded data removed]",
      "text/plain": [
       "<Figure size 640x480 with 1 Axes>"
      ]
     },
     "metadata": {},
     "output_type": "display_data"
    }
   ],
   "source": [
    "gen_data_v = generate_new_data(vae_model, num_samples=100, latent_dim=2)\n",
    "print(gen_data_v.head())\n",
    "plot_microbiome_data(gen_data_v, main='VAE Generated data')"
   ]
  },
  {
   "cell_type": "markdown",
   "id": "f024408d-4525-4e28-9fda-3fbdf658a97d",
   "metadata": {},
   "source": [
    " ## Hyperparameters that can be adjusted\n",
    "\n",
    "| **Parameter**        | **Recommended Values**                             |\n",
    "| ---------------------|---------------------------------------------------|\n",
    "| `latent_dim`        | 2–100 (depends on data complexity)                 |\n",
    "| `beta` (KL weight)  | 0.1–10 (tune based on regularization needs)       |\n",
    "| `learning_rate`     | 1e-3 to 1e-4 (use Adam optimizer)                  |\n",
    "| `batch_size`        | 32–128                                            |\n",
    "| `loss_function`     | MSE (for continuous data), BCE (for images)        |\n",
    "| `epochs`           | 50–500 (use early stopping)                        |\n",
    "| `activation`        | ReLU (hidden layers), Sigmoid/Tanh (output)        |\n",
    "| `no. of layers` | 2 - 5 |                                      \n",
    "                                      \n",
    "- latent_dim: lower number increases generalization and loses detail\n",
    "- Prevent overfitting with regularization (dropout, early stop...)\n"
   ]
  },
  {
   "cell_type": "code",
   "execution_count": null,
   "id": "59fb666e-ff6e-4b3e-aa18-1ac79fc35551",
   "metadata": {},
   "outputs": [],
   "source": [
    "## Autoregressive Model"
   ]
  },
  {
   "cell_type": "code",
   "execution_count": 34,
   "id": "6c7f251c-800f-4c16-a65a-ccdbf24ae040",
   "metadata": {},
   "outputs": [],
   "source": [
    "class AutoregressiveModel(nn.Module):\n",
    "    def __init__(self, input_dim, hidden_dim=128):\n",
    "        super(AutoregressiveModel, self).__init__()\n",
    "        self.rnn = nn.GRU(input_dim, hidden_dim, batch_first=True)\n",
    "        self.fc = nn.Linear(hidden_dim, input_dim)\n",
    "    \n",
    "    def forward(self, x):\n",
    "        out, _ = self.rnn(x)\n",
    "        return self.fc(out[:, -1, :])\n",
    "\n",
    "def train_autoregressive(df, epochs=500, batch_size=5, lr=0.001):\n",
    "    data_tensor = torch.tensor(df.values, dtype=torch.float32).unsqueeze(1)\n",
    "    dataloader = DataLoader(TensorDataset(data_tensor), batch_size=batch_size, shuffle=True)\n",
    "    \n",
    "    input_dim = df.shape[1]\n",
    "    model = AutoregressiveModel(input_dim)\n",
    "    optimizer = optim.Adam(model.parameters(), lr=lr)\n",
    "    loss_fn = nn.MSELoss()\n",
    "    \n",
    "    for epoch in range(epochs):\n",
    "        for batch in dataloader:\n",
    "            x = batch[0]\n",
    "            output = model(x)\n",
    "            loss = loss_fn(output, x[:, -1, :])\n",
    "            optimizer.zero_grad()\n",
    "            loss.backward()\n",
    "            optimizer.step()\n",
    "        \n",
    "        if epoch % 50 == 0:\n",
    "            print(f\"Epoch {epoch}, Loss: {loss.item()}\")\n",
    "    \n",
    "    return model\n",
    "\n",
    "def generate_autoregressive_data(model, num_samples=10, input_dim=10):\n",
    "    with torch.no_grad():\n",
    "        x = torch.randn(num_samples, 1, input_dim)\n",
    "        generated_data = model(x).numpy()\n",
    "    species_names = [f\"Species_{i+1}\" for i in range(input_dim)]\n",
    "    sample_names = [f\"Generated_Sample_{i+1}\" for i in range(num_samples)]\n",
    "    return pd.DataFrame(generated_data, index=sample_names, columns=species_names)\n"
   ]
  },
  {
   "cell_type": "code",
   "execution_count": 35,
   "id": "298c5810-a6fb-4b5a-82d9-ce0a5894a13a",
   "metadata": {},
   "outputs": [
    {
     "name": "stdout",
     "output_type": "stream",
     "text": [
      "Epoch 0, Loss: 1083477.5\n",
      "Epoch 50, Loss: 480177.09375\n",
      "Epoch 100, Loss: 591141.0\n",
      "Epoch 150, Loss: 388734.90625\n",
      "Epoch 200, Loss: 427656.25\n",
      "Epoch 250, Loss: 594287.875\n",
      "Epoch 300, Loss: 1706936.75\n",
      "Epoch 350, Loss: 354713.90625\n",
      "Epoch 400, Loss: 948073.8125\n",
      "Epoch 450, Loss: 354371.5\n"
     ]
    }
   ],
   "source": [
    "# Example usage\n",
    "autoregressive_model = train_autoregressive(df, epochs=500, batch_size=5, lr=0.001)"
   ]
  },
  {
   "cell_type": "code",
   "execution_count": 48,
   "id": "dd513350-62b8-4332-8c35-054f6f1dc898",
   "metadata": {},
   "outputs": [
    {
     "name": "stdout",
     "output_type": "stream",
     "text": [
      "                    Species_1   Species_2   Species_3  Species_4  Species_5  \\\n",
      "Generated_Sample_1  28.114182  560.733154  230.868088  79.105659   4.875130   \n",
      "Generated_Sample_2  -6.994884  -47.885349  -31.247948 -16.619083  -2.026840   \n",
      "Generated_Sample_3  -7.307526  -24.361185  -37.120411  -9.488108  -0.092130   \n",
      "Generated_Sample_4  -6.703885   29.502916  -42.333065 -23.020678  -2.569685   \n",
      "Generated_Sample_5   6.508150  193.001999   66.092064  23.258486   2.095748   \n",
      "\n",
      "                    Species_6  Species_7   Species_8  Species_9  Species_10  \\\n",
      "Generated_Sample_1   8.097331   1.833484  209.037201  31.489016   93.403824   \n",
      "Generated_Sample_2  -0.282838  -0.825287  -38.644115 -14.973047  -28.108681   \n",
      "Generated_Sample_3   0.972610  -0.920822  -33.456867 -11.126685  -14.967125   \n",
      "Generated_Sample_4   3.808023   0.921240  -25.402046 -12.862597  -17.795403   \n",
      "Generated_Sample_5   1.073757  -0.365714   62.042229   4.519653   23.242193   \n",
      "\n",
      "                    ...  Species_41  Species_42  Species_43  Species_44  \\\n",
      "Generated_Sample_1  ...    0.458551   28.320457    2.688022  308.128510   \n",
      "Generated_Sample_2  ...   -3.585898   -7.593835   -1.728663  -42.397240   \n",
      "Generated_Sample_3  ...   -2.739522   -5.949050   -0.891589  -25.623943   \n",
      "Generated_Sample_4  ...   -0.040150   -3.098280    2.523755   -5.113517   \n",
      "Generated_Sample_5  ...   -1.310937    5.449864    0.230327  110.479591   \n",
      "\n",
      "                    Species_45  Species_46  Species_47  Species_48  \\\n",
      "Generated_Sample_1    9.731177   81.589447    7.514563   24.866125   \n",
      "Generated_Sample_2   -4.528518  -17.150129   -5.097578  -11.643748   \n",
      "Generated_Sample_3   -6.842923  -14.049770   -2.742404  -11.175323   \n",
      "Generated_Sample_4   -8.108307   -8.801197   -1.790155  -14.499252   \n",
      "Generated_Sample_5    1.853920   24.379114    0.720860    6.365711   \n",
      "\n",
      "                    Species_49  Species_50  \n",
      "Generated_Sample_1   26.149645    0.800089  \n",
      "Generated_Sample_2   -9.559898   -2.364502  \n",
      "Generated_Sample_3   -3.054178   -2.707155  \n",
      "Generated_Sample_4   -5.887537    0.281316  \n",
      "Generated_Sample_5    3.611411   -1.789870  \n",
      "\n",
      "[5 rows x 50 columns]\n"
     ]
    },
    {
     "data": {
      "image/png": "[encoded data removed]",
      "text/plain": [
       "<Figure size 640x480 with 1 Axes>"
      ]
     },
     "metadata": {},
     "output_type": "display_data"
    }
   ],
   "source": [
    "# synthetic data\n",
    "gen_data_a = generate_autoregressive_data(autoregressive_model, num_samples=100, input_dim=df.shape[1])\n",
    "print(gen_data_a.head())\n",
    "plot_microbiome_data(gen_data_a, main='ARM Generated data')"
   ]
  },
  {
   "cell_type": "code",
   "execution_count": 49,
   "id": "2e32d15d-438d-4943-a0bd-9ab5dd0e5020",
   "metadata": {},
   "outputs": [],
   "source": [
    "class DiffusionModel(nn.Module):\n",
    "    def __init__(self, input_dim, timesteps=100):\n",
    "        super(DiffusionModel, self).__init__()\n",
    "        self.timesteps = timesteps\n",
    "        self.network = nn.Sequential(\n",
    "            nn.Linear(input_dim, 128), nn.ReLU(),\n",
    "            nn.Linear(128, 128), nn.ReLU(),\n",
    "            nn.Linear(128, input_dim)\n",
    "        )\n",
    "    \n",
    "    def forward(self, x, t):\n",
    "        return self.network(x)\n",
    "\n",
    "def diffusion_training(df, epochs=500, batch_size=5, lr=0.001, timesteps=100):\n",
    "    data_tensor = torch.tensor(df.values, dtype=torch.float32)\n",
    "    dataloader = DataLoader(TensorDataset(data_tensor), batch_size=batch_size, shuffle=True)\n",
    "    input_dim = df.shape[1]\n",
    "    model = DiffusionModel(input_dim, timesteps)\n",
    "    optimizer = optim.Adam(model.parameters(), lr=lr)\n",
    "    loss_fn = nn.MSELoss()\n",
    "    \n",
    "    for epoch in range(epochs):\n",
    "        for batch in dataloader:\n",
    "            x = batch[0]\n",
    "            t = torch.randint(0, timesteps, (x.shape[0],))\n",
    "            noise = torch.randn_like(x)\n",
    "            x_noisy = x + noise\n",
    "            pred_noise = model(x_noisy, t)\n",
    "            loss = loss_fn(pred_noise, noise)\n",
    "            optimizer.zero_grad()\n",
    "            loss.backward()\n",
    "            optimizer.step()\n",
    "        if epoch % 50 == 0:\n",
    "            print(f\"Epoch {epoch}, Loss: {loss.item()}\")\n",
    "    return model\n",
    "\n",
    "def generate_diffusion_data(model, input_dim, num_samples=10, timesteps=100):\n",
    "    with torch.no_grad():\n",
    "        x = torch.randn(num_samples, input_dim)\n",
    "        for t in reversed(range(timesteps)):\n",
    "            noise = model(x, torch.tensor([t]*num_samples))\n",
    "            x = x - noise / timesteps\n",
    "    species_names = [f\"Species_{i+1}\" for i in range(input_dim)]\n",
    "    sample_names = [f\"Generated_Sample_{i+1}\" for i in range(num_samples)]\n",
    "    return pd.DataFrame(x.numpy(), index=sample_names, columns=species_names)"
   ]
  },
  {
   "cell_type": "code",
   "execution_count": 50,
   "id": "f2a4dd93-3d2c-4d09-816a-0be3f816787d",
   "metadata": {},
   "outputs": [
    {
     "name": "stdout",
     "output_type": "stream",
     "text": [
      "Epoch 0, Loss: 13.460949897766113\n",
      "Epoch 50, Loss: 0.9063023924827576\n",
      "Epoch 100, Loss: 1.106594204902649\n",
      "Epoch 150, Loss: 0.9257947206497192\n",
      "Epoch 200, Loss: 1.1935887336730957\n",
      "Epoch 250, Loss: 1.1143425703048706\n",
      "Epoch 300, Loss: 1.0731050968170166\n",
      "Epoch 350, Loss: 0.984753429889679\n",
      "Epoch 400, Loss: 0.9408075213432312\n",
      "Epoch 450, Loss: 0.9827710390090942\n"
     ]
    }
   ],
   "source": [
    "# Example usage\n",
    "diffusion_model = diffusion_training(df, epochs=500, batch_size=5, lr=0.001, timesteps=100)"
   ]
  },
  {
   "cell_type": "code",
   "execution_count": 51,
   "id": "a376870d-697a-4785-baba-82ac297dd922",
   "metadata": {},
   "outputs": [
    {
     "name": "stdout",
     "output_type": "stream",
     "text": [
      "                    Species_1  Species_2  Species_3  Species_4  Species_5  \\\n",
      "Generated_Sample_1  -1.114395   1.530986   0.929664   1.157463  -1.703205   \n",
      "Generated_Sample_2   0.694050  -0.740168  -0.725691   0.732841   1.926426   \n",
      "Generated_Sample_3  -0.020282  -0.208400  -1.836653  -1.544347   0.369074   \n",
      "Generated_Sample_4  -1.346573  -0.087816  -1.192584   0.380671   0.082057   \n",
      "Generated_Sample_5  -1.430063  -1.715067  -0.223492   1.141659  -1.237927   \n",
      "\n",
      "                    Species_6  Species_7  Species_8  Species_9  Species_10  \\\n",
      "Generated_Sample_1   0.296336   1.610418  -0.523646   0.135337   -2.993509   \n",
      "Generated_Sample_2   0.103108  -0.875129   0.031484  -0.455919   -1.090987   \n",
      "Generated_Sample_3  -1.193532  -0.615406  -1.462194   0.334075   -1.425091   \n",
      "Generated_Sample_4  -0.484657   0.459392  -0.532091   0.492622   -1.172452   \n",
      "Generated_Sample_5   0.412194  -1.374015   0.303843  -1.216776    0.053448   \n",
      "\n",
      "                    ...  Species_41  Species_42  Species_43  Species_44  \\\n",
      "Generated_Sample_1  ...    1.725981    0.173511   -1.096398   -0.678183   \n",
      "Generated_Sample_2  ...    1.184213    0.556485   -1.223296    1.091901   \n",
      "Generated_Sample_3  ...   -0.546905   -1.482963   -0.526125    0.222504   \n",
      "Generated_Sample_4  ...   -1.938367   -0.590642   -1.227596   -1.133247   \n",
      "Generated_Sample_5  ...   -0.615107   -1.315482    2.742349   -0.069117   \n",
      "\n",
      "                    Species_45  Species_46  Species_47  Species_48  \\\n",
      "Generated_Sample_1    0.200046   -2.309034   -2.729721   -0.247783   \n",
      "Generated_Sample_2   -1.335967   -0.735632   -0.574730   -2.333401   \n",
      "Generated_Sample_3    1.412869   -0.446306   -0.506028   -0.421824   \n",
      "Generated_Sample_4   -0.569146   -1.060696    0.181908    0.358364   \n",
      "Generated_Sample_5    1.409764   -0.234534    0.663743   -0.107163   \n",
      "\n",
      "                    Species_49  Species_50  \n",
      "Generated_Sample_1    0.056923   -0.031308  \n",
      "Generated_Sample_2   -0.312163    0.036949  \n",
      "Generated_Sample_3   -0.776553   -0.426807  \n",
      "Generated_Sample_4   -0.119113   -0.787531  \n",
      "Generated_Sample_5    0.171906   -0.288954  \n",
      "\n",
      "[5 rows x 50 columns]\n"
     ]
    },
    {
     "data": {
      "image/png": "[encoded data removed]",
      "text/plain": [
       "<Figure size 640x480 with 1 Axes>"
      ]
     },
     "metadata": {},
     "output_type": "display_data"
    }
   ],
   "source": [
    "gen_data_d = generate_diffusion_data(diffusion_model, input_dim=df.shape[1], num_samples=100, timesteps=100)\n",
    "print(gen_data_d.head())\n",
    "plot_microbiome_data(gen_data_d, main='Diffusion Generated data')"
   ]
  },
  {
   "cell_type": "markdown",
   "id": "6afc9fc5-abf2-425b-8e09-d19d35382684",
   "metadata": {},
   "source": [
    "## GAN"
   ]
  },
  {
   "cell_type": "code",
   "execution_count": 52,
   "id": "335e9d8b-1aa1-4cfb-aa6e-6e737205709c",
   "metadata": {},
   "outputs": [],
   "source": [
    "\n",
    "class Generator(nn.Module):\n",
    "    def __init__(self, input_dim, output_dim):\n",
    "        super(Generator, self).__init__()\n",
    "        self.model = nn.Sequential(\n",
    "            nn.Linear(input_dim, 128), nn.ReLU(),\n",
    "            nn.Linear(128, 256), nn.ReLU(),\n",
    "            nn.Linear(256, output_dim), nn.Softmax(dim=1)\n",
    "        )\n",
    "    \n",
    "    def forward(self, z):\n",
    "        return self.model(z)\n",
    "\n",
    "class Discriminator(nn.Module):\n",
    "    def __init__(self, input_dim):\n",
    "        super(Discriminator, self).__init__()\n",
    "        self.model = nn.Sequential(\n",
    "            nn.Linear(input_dim, 256), nn.ReLU(),\n",
    "            nn.Linear(256, 128), nn.ReLU(),\n",
    "            nn.Linear(128, 1), nn.Sigmoid()\n",
    "        )\n",
    "    \n",
    "    def forward(self, x):\n",
    "        return self.model(x)\n",
    "\n",
    "def train_gan(df, latent_dim=10, epochs=500, batch_size=5, lr=0.0002):\n",
    "    data_tensor = torch.tensor(df.values, dtype=torch.float32)\n",
    "    dataloader = DataLoader(TensorDataset(data_tensor), batch_size=batch_size, shuffle=True)\n",
    "    \n",
    "    input_dim = df.shape[1]\n",
    "    generator = Generator(latent_dim, input_dim)\n",
    "    discriminator = Discriminator(input_dim)\n",
    "    \n",
    "    optimizer_G = optim.Adam(generator.parameters(), lr=lr)\n",
    "    optimizer_D = optim.Adam(discriminator.parameters(), lr=lr)\n",
    "    loss_fn = nn.BCELoss()\n",
    "    \n",
    "    for epoch in range(epochs):\n",
    "        for real_data in dataloader:\n",
    "            real_data = real_data[0]\n",
    "            batch_size = real_data.size(0)\n",
    "            \n",
    "            # Train Discriminator\n",
    "            real_labels = torch.ones(batch_size, 1)\n",
    "            fake_labels = torch.zeros(batch_size, 1)\n",
    "            z = torch.randn(batch_size, latent_dim)\n",
    "            fake_data = generator(z)\n",
    "            \n",
    "            real_loss = loss_fn(discriminator(real_data), real_labels)\n",
    "            fake_loss = loss_fn(discriminator(fake_data.detach()), fake_labels)\n",
    "            d_loss = (real_loss + fake_loss) / 2\n",
    "            optimizer_D.zero_grad()\n",
    "            d_loss.backward()\n",
    "            optimizer_D.step()\n",
    "            \n",
    "            # Train Generator\n",
    "            g_loss = loss_fn(discriminator(fake_data), real_labels)\n",
    "            optimizer_G.zero_grad()\n",
    "            g_loss.backward()\n",
    "            optimizer_G.step()\n",
    "        \n",
    "        if epoch % 50 == 0:\n",
    "            print(f\"Epoch {epoch}, D Loss: {d_loss.item()}, G Loss: {g_loss.item()}\")\n",
    "    \n",
    "    return generator\n",
    "\n",
    "def generate_gan_data(generator, num_samples=10, latent_dim=10):\n",
    "    with torch.no_grad():\n",
    "        z = torch.randn(num_samples, latent_dim)\n",
    "        generated_data = generator(z).numpy()\n",
    "    species_names = [f\"Species_{i+1}\" for i in range(generated_data.shape[1])]\n",
    "    sample_names = [f\"Generated_Sample_{i+1}\" for i in range(num_samples)]\n",
    "    return pd.DataFrame(generated_data, index=sample_names, columns=species_names)\n"
   ]
  },
  {
   "cell_type": "code",
   "execution_count": 53,
   "id": "23b7b6df-6d4f-410e-bc97-75ba167065f7",
   "metadata": {},
   "outputs": [
    {
     "name": "stdout",
     "output_type": "stream",
     "text": [
      "Epoch 0, D Loss: 0.28558093309402466, G Loss: 0.832844078540802\n",
      "Epoch 50, D Loss: 2.473152562743053e-06, G Loss: 12.217423439025879\n",
      "Epoch 100, D Loss: 2.8959826536834044e-08, G Loss: 16.664695739746094\n",
      "Epoch 150, D Loss: 8.437742171629736e-10, G Loss: 20.200225830078125\n",
      "Epoch 200, D Loss: 2.0596360728042384e-10, G Loss: 21.61042594909668\n",
      "Epoch 250, D Loss: 2.091994286135268e-11, G Loss: 23.89740753173828\n",
      "Epoch 300, D Loss: 1.0871604831652615e-11, G Loss: 24.5518798828125\n",
      "Epoch 350, D Loss: 2.0950960150784015e-12, G Loss: 26.198413848876953\n",
      "Epoch 400, D Loss: 8.572740499250553e-13, G Loss: 27.091930389404297\n",
      "Epoch 450, D Loss: 5.360847399674129e-13, G Loss: 27.56137466430664\n"
     ]
    }
   ],
   "source": [
    "# Example usage\n",
    "gan_generator = train_gan(df, latent_dim=10, epochs=500, batch_size=5, lr=0.0002)\n"
   ]
  },
  {
   "cell_type": "code",
   "execution_count": 55,
   "id": "ebf3a78a-d83f-4d20-9831-f5b5a7fb1b46",
   "metadata": {},
   "outputs": [
    {
     "name": "stdout",
     "output_type": "stream",
     "text": [
      "                       Species_1     Species_2     Species_3     Species_4  \\\n",
      "Generated_Sample_1  1.325347e-36  1.012385e-33  2.150221e-32  4.482853e-37   \n",
      "Generated_Sample_2  1.647473e-19  4.966545e-18  1.902681e-17  1.029897e-19   \n",
      "Generated_Sample_3  5.785678e-24  4.396750e-22  3.143728e-21  3.186233e-24   \n",
      "Generated_Sample_4  5.996199e-31  1.526426e-28  2.072749e-27  2.090157e-31   \n",
      "Generated_Sample_5  4.414426e-24  2.879195e-22  1.827554e-21  2.102207e-24   \n",
      "\n",
      "                       Species_5     Species_6     Species_7     Species_8  \\\n",
      "Generated_Sample_1  2.889276e-35  1.403721e-37  2.004947e-30  1.002292e-28   \n",
      "Generated_Sample_2  9.324354e-19  5.654015e-20  2.227543e-16  2.201239e-15   \n",
      "Generated_Sample_3  3.810385e-23  1.279145e-24  6.872433e-20  8.542973e-19   \n",
      "Generated_Sample_4  6.646489e-30  8.472491e-32  5.926650e-26  2.117758e-24   \n",
      "Generated_Sample_5  3.097124e-23  1.085344e-24  3.109357e-20  5.741150e-19   \n",
      "\n",
      "                       Species_9    Species_10  ...    Species_41  \\\n",
      "Generated_Sample_1  2.878592e-36  1.200538e-37  ...  1.530092e-36   \n",
      "Generated_Sample_2  2.759251e-19  5.243511e-20  ...  1.876556e-19   \n",
      "Generated_Sample_3  1.027172e-23  1.228927e-24  ...  6.742246e-24   \n",
      "Generated_Sample_4  1.197802e-30  7.723536e-32  ...  5.203471e-31   \n",
      "Generated_Sample_5  7.809605e-24  1.156066e-24  ...  4.877404e-24   \n",
      "\n",
      "                      Species_42    Species_43  Species_44    Species_45  \\\n",
      "Generated_Sample_1  3.748598e-35  5.582175e-36         1.0  9.127650e-36   \n",
      "Generated_Sample_2  7.120760e-19  3.465222e-19         1.0  5.140859e-19   \n",
      "Generated_Sample_3  4.005591e-23  1.331355e-23         1.0  1.739298e-23   \n",
      "Generated_Sample_4  7.144146e-30  1.520125e-30         1.0  3.163455e-30   \n",
      "Generated_Sample_5  3.250603e-23  1.086297e-23         1.0  1.731797e-23   \n",
      "\n",
      "                      Species_46    Species_47    Species_48    Species_49  \\\n",
      "Generated_Sample_1  1.206904e-35  1.750295e-37  2.799882e-34  6.549839e-37   \n",
      "Generated_Sample_2  4.745041e-19  4.967886e-20  2.700501e-18  1.147821e-19   \n",
      "Generated_Sample_3  2.035176e-23  1.397687e-24  1.715636e-22  3.664884e-24   \n",
      "Generated_Sample_4  3.619179e-30  8.204430e-32  4.891907e-29  2.165541e-31   \n",
      "Generated_Sample_5  1.605547e-23  1.075875e-24  1.656116e-22  2.911331e-24   \n",
      "\n",
      "                      Species_50  \n",
      "Generated_Sample_1  3.063391e-37  \n",
      "Generated_Sample_2  9.637526e-20  \n",
      "Generated_Sample_3  2.265704e-24  \n",
      "Generated_Sample_4  1.795160e-31  \n",
      "Generated_Sample_5  1.778568e-24  \n",
      "\n",
      "[5 rows x 50 columns]\n"
     ]
    },
    {
     "data": {
      "image/png": "[encoded data removed]",
      "text/plain": [
       "<Figure size 640x480 with 1 Axes>"
      ]
     },
     "metadata": {},
     "output_type": "display_data"
    }
   ],
   "source": [
    "gen_data_g = generate_gan_data(gan_generator, num_samples=100, latent_dim=10)\n",
    "print(gen_data_g.head())\n",
    "plot_microbiome_data(gen_data_g, main='GAN Generated data')"
   ]
  },
  {
   "cell_type": "markdown",
   "id": "7c21b5fe-dc11-4838-8f2e-ce105fd401c1",
   "metadata": {},
   "source": [
    "## Normalizing Flow Model"
   ]
  },
  {
   "cell_type": "code",
   "execution_count": 56,
   "id": "f7cfac86-54f7-4b46-9b98-954d96af9d5d",
   "metadata": {},
   "outputs": [],
   "source": [
    "\n",
    "# Affine Coupling Layer for RealNVP\n",
    "class AffineCoupling(nn.Module):\n",
    "    def __init__(self, input_dim, hidden_dim):\n",
    "        super().__init__()\n",
    "        self.scale_net = nn.Sequential(\n",
    "            nn.Linear(input_dim, hidden_dim),\n",
    "            nn.ReLU(),\n",
    "            nn.Linear(hidden_dim, input_dim),\n",
    "            nn.Tanh()\n",
    "        )\n",
    "        self.translate_net = nn.Sequential(\n",
    "            nn.Linear(input_dim, hidden_dim),\n",
    "            nn.ReLU(),\n",
    "            nn.Linear(hidden_dim, input_dim)\n",
    "        )\n",
    "\n",
    "    def forward(self, x, reverse=False):\n",
    "        s = self.scale_net(x)\n",
    "        t = self.translate_net(x)\n",
    "        if not reverse:\n",
    "            x = x * torch.exp(s) + t\n",
    "        else:\n",
    "            x = (x - t) * torch.exp(-s)\n",
    "        return x, torch.sum(s, dim=1)\n",
    "\n",
    "# RealNVP Model\n",
    "class RealNVP(nn.Module):\n",
    "    def __init__(self, input_dim, hidden_dim, num_flows):\n",
    "        super().__init__()\n",
    "        self.flows = nn.ModuleList([AffineCoupling(input_dim, hidden_dim) for _ in range(num_flows)])\n",
    "        self.prior = torch.distributions.Normal(torch.zeros(input_dim), torch.ones(input_dim))\n",
    "    \n",
    "    def forward(self, x):\n",
    "        log_det_jacobian = torch.zeros(x.shape[0])\n",
    "        for flow in self.flows:\n",
    "            x, log_det = flow(x)\n",
    "            log_det_jacobian += log_det\n",
    "        log_prob = self.prior.log_prob(x).sum(dim=1) + log_det_jacobian\n",
    "        return log_prob\n",
    "\n",
    "    def sample(self, num_samples):\n",
    "        z = self.prior.sample((num_samples,))\n",
    "        for flow in reversed(self.flows):\n",
    "            z, _ = flow(z, reverse=True)\n",
    "        return z\n",
    "\n",
    "def train_normalizing_flow(df, latent_dim=10, num_flows=3, epochs=500, batch_size=5, lr=0.0002):\n",
    "    data_tensor = torch.tensor(df.values, dtype=torch.float32)\n",
    "    dataloader = DataLoader(TensorDataset(data_tensor), batch_size=batch_size, shuffle=True)\n",
    "    \n",
    "    input_dim = df.shape[1]\n",
    "    model = RealNVP(input_dim, latent_dim, num_flows)\n",
    "    optimizer = optim.Adam(model.parameters(), lr=lr)\n",
    "    \n",
    "    for epoch in range(epochs):\n",
    "        total_loss = 0\n",
    "        for batch in dataloader:\n",
    "            x = batch[0]\n",
    "            loss = -model(x).mean()\n",
    "            \n",
    "            optimizer.zero_grad()\n",
    "            loss.backward()\n",
    "            optimizer.step()\n",
    "            total_loss += loss.item()\n",
    "        \n",
    "        if epoch % 50 == 0:\n",
    "            print(f\"Epoch {epoch}: Loss = {total_loss / len(dataloader):.4f}\")\n",
    "    \n",
    "    return model\n",
    "\n",
    "def generate_normalizing_flow_data(model, num_samples=10, input_dim=50):\n",
    "    generated_data = model.sample(num_samples).detach().numpy()\n",
    "    species_names = [f\"Species_{i+1}\" for i in range(input_dim)]\n",
    "    sample_names = [f\"Generated_Sample_{i+1}\" for i in range(num_samples)]\n",
    "    return pd.DataFrame(generated_data, index=sample_names, columns=species_names)\n"
   ]
  },
  {
   "cell_type": "code",
   "execution_count": 57,
   "id": "c3ba5eea-4f59-4f2e-adae-16cd281ce5a6",
   "metadata": {},
   "outputs": [
    {
     "name": "stdout",
     "output_type": "stream",
     "text": [
      "Epoch 0: Loss = 4671953966.5600\n",
      "Epoch 50: Loss = 105167833.3000\n",
      "Epoch 100: Loss = 8080862.5788\n",
      "Epoch 150: Loss = 1506164.3293\n",
      "Epoch 200: Loss = 187204.9807\n",
      "Epoch 250: Loss = 37434.2528\n",
      "Epoch 300: Loss = 7410.9481\n",
      "Epoch 350: Loss = 1701.3883\n",
      "Epoch 400: Loss = 923.0874\n",
      "Epoch 450: Loss = 1036.2177\n"
     ]
    }
   ],
   "source": [
    "# Usage example\n",
    "flow_generator = train_normalizing_flow(df, latent_dim=10, num_flows=5, epochs=500, batch_size=5, lr=0.0002)\n"
   ]
  },
  {
   "cell_type": "code",
   "execution_count": 58,
   "id": "5cab86f6-6941-41aa-b497-9ddd99db22a0",
   "metadata": {},
   "outputs": [
    {
     "name": "stdout",
     "output_type": "stream",
     "text": [
      "                    Species_1  Species_2  Species_3  Species_4  Species_5  \\\n",
      "Generated_Sample_1   9.154528   1.884155 -14.178860   2.256858  -0.537783   \n",
      "Generated_Sample_2  19.366734  -2.259014   0.404008   0.246630  -0.984947   \n",
      "Generated_Sample_3  -2.810786  -1.294701  -3.896779   0.493099  12.848325   \n",
      "Generated_Sample_4  -0.775610   0.629605   0.078121   1.300891  -0.029226   \n",
      "Generated_Sample_5   2.089824   0.325699 -36.302982   0.396739   4.030089   \n",
      "\n",
      "                    Species_6  Species_7  Species_8  Species_9  Species_10  \\\n",
      "Generated_Sample_1  -7.388272   0.026525  -8.531729  19.321110    2.608186   \n",
      "Generated_Sample_2  -2.187403  -1.623959  -2.326509  20.057848   19.210030   \n",
      "Generated_Sample_3   5.000307  -0.450813   0.449333  -8.229490    0.702543   \n",
      "Generated_Sample_4  -0.621282   1.021652 -13.830938  -1.376507   -1.393046   \n",
      "Generated_Sample_5   0.236976   0.503503  -5.983286   0.522516   13.664246   \n",
      "\n",
      "                    ...  Species_41  Species_42  Species_43  Species_44  \\\n",
      "Generated_Sample_1  ...   -3.299607    0.616863   21.357096   21.597338   \n",
      "Generated_Sample_2  ...    1.610172   15.143803    2.330563   -2.542380   \n",
      "Generated_Sample_3  ...    1.770273   -2.391192    2.424089   28.445797   \n",
      "Generated_Sample_4  ...    1.692240   -0.428727    2.438578   -1.915714   \n",
      "Generated_Sample_5  ...   -0.918808   -3.275346   14.669926   -2.039511   \n",
      "\n",
      "                    Species_45  Species_46  Species_47  Species_48  \\\n",
      "Generated_Sample_1  -31.435476    5.465659   -0.056588   13.286401   \n",
      "Generated_Sample_2  -33.732883    1.339193   -2.474093   -9.539687   \n",
      "Generated_Sample_3    1.101446    3.491916   -5.200920  -10.406033   \n",
      "Generated_Sample_4   -6.912869   -6.634108   -1.914416   -8.132645   \n",
      "Generated_Sample_5   20.503883   -0.889211   -0.205223  -16.793314   \n",
      "\n",
      "                    Species_49  Species_50  \n",
      "Generated_Sample_1   -3.313555    1.726720  \n",
      "Generated_Sample_2  -16.470007   -0.836407  \n",
      "Generated_Sample_3  -10.926934    0.852080  \n",
      "Generated_Sample_4   -5.373768    0.608161  \n",
      "Generated_Sample_5   -7.845293    6.266170  \n",
      "\n",
      "[5 rows x 50 columns]\n"
     ]
    },
    {
     "data": {
      "image/png": "[encoded data removed]",
      "text/plain": [
       "<Figure size 640x480 with 1 Axes>"
      ]
     },
     "metadata": {},
     "output_type": "display_data"
    }
   ],
   "source": [
    "gen_data_f = generate_normalizing_flow_data(flow_generator, num_samples=100, input_dim=df.shape[1])\n",
    "print(gen_data_f.head())\n",
    "plot_microbiome_data(gen_data_f, main='Flow Generated data')"
   ]
  },
  {
   "cell_type": "markdown",
   "id": "900c44e3-105e-4d3f-974f-6d5d2ba965d4",
   "metadata": {},
   "source": [
    "### Plot joint results"
   ]
  },
  {
   "cell_type": "code",
   "execution_count": 65,
   "id": "2afbcc33-76be-4513-b192-9b4802984114",
   "metadata": {},
   "outputs": [
    {
     "data": {
      "image/png": "[encoded data removed]",
      "text/plain": [
       "<Figure size 1000x800 with 6 Axes>"
      ]
     },
     "metadata": {},
     "output_type": "display_data"
    }
   ],
   "source": [
    "fig, ax = plt.subplots(2, 3, figsize=(10, 8))\n",
    "ax[0,0].hist(df0.mean(axis=0), color='cyan', edgecolor='black', alpha=0.7)\n",
    "ax[0,0].set_title('Simulated data')\n",
    "ax[0,1].hist(gen_data_a.mean(axis=0), color='cyan', edgecolor='black', alpha=0.7)\n",
    "ax[0,1].set_title('ARR model')\n",
    "ax[0,2].hist(gen_data_v.mean(axis=0), color='cyan', edgecolor='black', alpha=0.7)\n",
    "ax[0,2].set_title('VAE model')\n",
    "ax[1,0].hist(gen_data_g.mean(axis=0), color='cyan', edgecolor='black', alpha=0.7)\n",
    "ax[1,0].set_title('GAN model')\n",
    "ax[1,1].hist(gen_data_d.mean(axis=0), color='cyan', edgecolor='black', alpha=0.7)\n",
    "ax[1,1].set_title('Diffusion model')\n",
    "ax[1,2].hist(gen_data_f.mean(axis=0), color='cyan', edgecolor='black', alpha=0.7)\n",
    "ax[1,2].set_title('Flow model')\n",
    "\n",
    "plt.show()\n",
    "\n",
    "fig.savefig(\"genAI.jpg\", format=\"jpg\", dpi=300, bbox_inches=\"tight\")"
   ]
  },
  {
   "cell_type": "code",
   "execution_count": null,
   "id": "0ce79aa9-27fc-462c-8bb6-f3fe7c91413a",
   "metadata": {},
   "outputs": [],
   "source": []
  }
 ],
 "metadata": {
  "kernelspec": {
   "display_name": "Python 3 (ipykernel)",
   "language": "python",
   "name": "python3"
  },
  "language_info": {
   "codemirror_mode": {
    "name": "ipython",
    "version": 3
   },
   "file_extension": ".py",
   "mimetype": "text/x-python",
   "name": "python",
   "nbconvert_exporter": "python",
   "pygments_lexer": "ipython3",
   "version": "3.9.21"
  }
 },
 "nbformat": 4,
 "nbformat_minor": 5
}
